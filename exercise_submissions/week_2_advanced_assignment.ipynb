{
  "nbformat": 4,
  "nbformat_minor": 0,
  "metadata": {
    "colab": {
      "provenance": []
    },
    "kernelspec": {
      "name": "python3",
      "display_name": "Python 3"
    },
    "language_info": {
      "name": "python"
    }
  },
  "cells": [
    {
      "cell_type": "markdown",
      "source": [
        "### Arewa Data Science Academy\n",
        "### Deep Learning Cohort1.0\n",
        "### Name: Ganiu Kuku\n",
        "### Email: Ganiukuku@gmail.com\n",
        "### Title: Week 2(Advanced_Assignment) Solution"
      ],
      "metadata": {
        "id": "a-zFR5Dqh_1I"
      }
    },
    {
      "cell_type": "code",
      "source": [
        "# import libraries\n",
        "import zipfile\n",
        "import pandas as pd\n",
        "\n",
        "# download dataset in current env\n",
        "!wget https://archive.ics.uci.edu/static/public/607/synchronous+machine+data+set.zip -O data.zip\n",
        "# unzip data\n",
        "with zipfile.ZipFile(\"data.zip\", 'r') as my_zip:\n",
        "  my_zip.extractall()\n",
        "# read csv and parse to pandas\n",
        "dataset_name = \"synchronous machine.csv\"\n",
        "data = pd.read_csv(dataset_name, delimiter=\";\", thousands=',')\n",
        "# get numpy data\n",
        "numpy_data = data.values"
      ],
      "metadata": {
        "colab": {
          "base_uri": "https://localhost:8080/"
        },
        "id": "SKBFZWb4ZhxC",
        "outputId": "552e0d91-602a-4695-8b05-56fe2771e4ae"
      },
      "execution_count": 2,
      "outputs": [
        {
          "output_type": "stream",
          "name": "stdout",
          "text": [
            "--2025-02-25 14:10:47--  https://archive.ics.uci.edu/static/public/607/synchronous+machine+data+set.zip\n",
            "Resolving archive.ics.uci.edu (archive.ics.uci.edu)... 128.195.10.252\n",
            "Connecting to archive.ics.uci.edu (archive.ics.uci.edu)|128.195.10.252|:443... connected.\n",
            "HTTP request sent, awaiting response... 200 OK\n",
            "Length: unspecified\n",
            "Saving to: ‘data.zip’\n",
            "\n",
            "data.zip                [ <=>                ]  14.37K  --.-KB/s    in 0.009s  \n",
            "\n",
            "2025-02-25 14:10:55 (1.57 MB/s) - ‘data.zip’ saved [14713]\n",
            "\n"
          ]
        }
      ]
    },
    {
      "cell_type": "code",
      "source": [
        "import torch\n",
        "import numpy as np\n",
        "\n",
        "# (a) Load the Synchronous Machine Learning Dataset as a Numpy array\n",
        "# Print the shape of the numpy array to confirm it's loaded\n",
        "print(\"Shape of the loaded numpy array:\", numpy_data.shape)\n",
        "\n",
        "# You can also print a few rows to inspect the data\n",
        "print(numpy_data[:5])\n",
        "\n",
        "# (b) Convert the Numpy array to a PyTorch tensor\n",
        "original_data_tensor = torch.tensor(numpy_data, dtype=torch.float32)\n",
        "print(\"Original Data Tensor:\", original_data_tensor)"
      ],
      "metadata": {
        "colab": {
          "base_uri": "https://localhost:8080/"
        },
        "id": "RiBzd26gaiwu",
        "outputId": "18021ae8-b933-4a89-c01c-c51352497284"
      },
      "execution_count": 3,
      "outputs": [
        {
          "output_type": "stream",
          "name": "stdout",
          "text": [
            "Shape of the loaded numpy array: (557, 5)\n",
            "[[   3   66   34  383 1563]\n",
            " [   3   68   32  372 1552]\n",
            " [   3    7    3   36  154]\n",
            " [   3   72   28  338 1518]\n",
            " [   3   74   26  317 1497]]\n",
            "Original Data Tensor: tensor([[3.0000e+00, 6.6000e+01, 3.4000e+01, 3.8300e+02, 1.5630e+03],\n",
            "        [3.0000e+00, 6.8000e+01, 3.2000e+01, 3.7200e+02, 1.5520e+03],\n",
            "        [3.0000e+00, 7.0000e+00, 3.0000e+00, 3.6000e+01, 1.5400e+02],\n",
            "        ...,\n",
            "        [6.0000e+00, 9.5000e+01, 5.0000e+00, 1.6000e+01, 1.3400e+02],\n",
            "        [6.0000e+00, 9.7000e+01, 3.0000e+00, 1.6000e+01, 1.3400e+02],\n",
            "        [6.0000e+00, 9.9000e+01, 1.0000e+00, 1.6000e+01, 1.3400e+02]])\n"
          ]
        }
      ]
    },
    {
      "cell_type": "code",
      "source": [
        "print(\"Size of the dataset:\", original_data_tensor.size())"
      ],
      "metadata": {
        "colab": {
          "base_uri": "https://localhost:8080/"
        },
        "id": "T9IjSs5EajA7",
        "outputId": "144e6376-3dd4-485d-d1fa-f44420bff695"
      },
      "execution_count": 4,
      "outputs": [
        {
          "output_type": "stream",
          "name": "stdout",
          "text": [
            "Size of the dataset: torch.Size([557, 5])\n"
          ]
        }
      ]
    },
    {
      "cell_type": "code",
      "source": [
        "# Check if GPU is available\n",
        "device = torch.device(\"cuda\" if torch.cuda.is_available() else \"cpu\")\n",
        "\n",
        "# Create a tensor of the same size as original_data_tensor with values 3.142\n",
        "my_pi_tensor = torch.full_like(original_data_tensor, 3.142, device=device)\n",
        "\n",
        "# Print the first 13 rows\n",
        "print(\"First 13 rows of my_pi_tensor:\", my_pi_tensor[:13])\n",
        "\n",
        "# Print tensor device location\n",
        "print(\"Tensor device location:\", my_pi_tensor.device)\n",
        "\n",
        "# Print tensor datatype\n",
        "print(\"Tensor datatype:\", my_pi_tensor.dtype)"
      ],
      "metadata": {
        "colab": {
          "base_uri": "https://localhost:8080/"
        },
        "id": "h4v2AsNLajFz",
        "outputId": "558c979a-dedb-4772-c830-857c3503389c"
      },
      "execution_count": 5,
      "outputs": [
        {
          "output_type": "stream",
          "name": "stdout",
          "text": [
            "First 13 rows of my_pi_tensor: tensor([[3.1420, 3.1420, 3.1420, 3.1420, 3.1420],\n",
            "        [3.1420, 3.1420, 3.1420, 3.1420, 3.1420],\n",
            "        [3.1420, 3.1420, 3.1420, 3.1420, 3.1420],\n",
            "        [3.1420, 3.1420, 3.1420, 3.1420, 3.1420],\n",
            "        [3.1420, 3.1420, 3.1420, 3.1420, 3.1420],\n",
            "        [3.1420, 3.1420, 3.1420, 3.1420, 3.1420],\n",
            "        [3.1420, 3.1420, 3.1420, 3.1420, 3.1420],\n",
            "        [3.1420, 3.1420, 3.1420, 3.1420, 3.1420],\n",
            "        [3.1420, 3.1420, 3.1420, 3.1420, 3.1420],\n",
            "        [3.1420, 3.1420, 3.1420, 3.1420, 3.1420],\n",
            "        [3.1420, 3.1420, 3.1420, 3.1420, 3.1420],\n",
            "        [3.1420, 3.1420, 3.1420, 3.1420, 3.1420],\n",
            "        [3.1420, 3.1420, 3.1420, 3.1420, 3.1420]])\n",
            "Tensor device location: cpu\n",
            "Tensor datatype: torch.float32\n"
          ]
        }
      ]
    },
    {
      "cell_type": "code",
      "source": [
        "sum_values = torch.sum(my_pi_tensor)\n",
        "fifth_root = sum_values ** (1/5)\n",
        "print(\"Fifth-root of the sum of all values:\", fifth_root.item())"
      ],
      "metadata": {
        "colab": {
          "base_uri": "https://localhost:8080/"
        },
        "id": "StEZB6sxajJM",
        "outputId": "006b4763-d4fd-4db8-bb30-2098b6209f44"
      },
      "execution_count": 6,
      "outputs": [
        {
          "output_type": "stream",
          "name": "stdout",
          "text": [
            "Fifth-root of the sum of all values: 6.143364429473877\n"
          ]
        }
      ]
    },
    {
      "cell_type": "code",
      "source": [
        "first_100_rows = original_data_tensor[:100]\n",
        "last_100_rows = original_data_tensor[-100:]\n",
        "my_data_tensor = torch.cat((first_100_rows, last_100_rows), dim=0)\n",
        "print(\"Size of my_data_tensor:\", my_data_tensor.size())"
      ],
      "metadata": {
        "colab": {
          "base_uri": "https://localhost:8080/"
        },
        "id": "nfILvgw-ajL1",
        "outputId": "e86be0b0-f898-44e8-d67d-9b76a66c5e9c"
      },
      "execution_count": 7,
      "outputs": [
        {
          "output_type": "stream",
          "name": "stdout",
          "text": [
            "Size of my_data_tensor: torch.Size([200, 5])\n"
          ]
        }
      ]
    },
    {
      "cell_type": "code",
      "source": [
        "# Assuming column 0 is 'diff' and column 1 is 'If'\n",
        "features = my_data_tensor[:, 0]  # First column as features\n",
        "target = my_data_tensor[:, 1]    # Second column as target\n",
        "\n",
        "print(\"Features tensor:\", features)\n",
        "print(\"Target tensor:\", target)"
      ],
      "metadata": {
        "colab": {
          "base_uri": "https://localhost:8080/"
        },
        "id": "Ux1dYdHbajPn",
        "outputId": "3f5d08b3-03ac-49e7-ec5d-5d00c45d06f0"
      },
      "execution_count": 8,
      "outputs": [
        {
          "output_type": "stream",
          "name": "stdout",
          "text": [
            "Features tensor: tensor([ 3.,  3.,  3.,  3.,  3.,  3.,  3.,  3.,  3.,  3.,  3.,  3.,  3.,  3.,\n",
            "         3.,  3.,  3.,  3., 31., 31., 31., 31., 31., 31., 31., 31., 31., 31.,\n",
            "        31., 31., 31., 31., 31., 31., 31., 31., 32., 32., 32., 32., 32., 32.,\n",
            "        32., 32., 32., 32., 32., 32., 32., 32., 32., 32., 32., 32., 33., 33.,\n",
            "        33., 33., 33., 33., 33., 33., 33., 33., 33., 33., 33., 33., 33., 33.,\n",
            "        33., 33., 34., 34., 34., 34., 34., 34., 34., 34., 34., 34., 34., 34.,\n",
            "        34., 34., 34., 34., 34., 34., 35., 35., 35., 35., 35., 35., 35., 35.,\n",
            "        35., 35., 55., 55., 55., 55., 55., 55., 55., 55., 55., 55., 56., 56.,\n",
            "        56., 56., 56., 56., 56., 56., 56., 56., 56., 56., 56., 56., 56., 56.,\n",
            "        56., 56., 57., 57., 57., 57., 57., 57., 57., 57., 57., 57., 57., 57.,\n",
            "        57., 57., 57., 57., 57., 57., 58., 58., 58., 58., 58., 58., 58., 58.,\n",
            "        58., 58., 58., 58., 58., 58., 58., 58., 58., 58., 59., 59., 59., 59.,\n",
            "        59., 59., 59., 59., 59., 59., 59., 59., 59., 59., 59., 59., 59., 59.,\n",
            "         6.,  6.,  6.,  6.,  6.,  6.,  6.,  6.,  6.,  6.,  6.,  6.,  6.,  6.,\n",
            "         6.,  6.,  6.,  6.])\n",
            "Target tensor: tensor([66., 68.,  7., 72., 74., 76., 78.,  8., 82., 84., 86., 88.,  9., 92.,\n",
            "        94., 96., 98.,  1., 66., 68.,  7., 72., 74., 76., 78.,  8., 82., 84.,\n",
            "        86., 88.,  9., 92., 94., 96., 98.,  1., 66., 68.,  7., 72., 74., 76.,\n",
            "        78.,  8., 82., 84., 86., 88.,  9., 92., 94., 96., 98.,  1., 66., 68.,\n",
            "         7., 72., 74., 76., 78.,  8., 82., 84., 86., 88.,  9., 92., 94., 96.,\n",
            "        98.,  1., 66., 68.,  7., 72., 74., 76., 78.,  8., 82., 84., 86., 88.,\n",
            "         9., 92., 94., 96., 98.,  1., 66., 68.,  7., 72., 74., 76., 78.,  8.,\n",
            "        82., 84., 81., 83., 85., 87., 89., 91., 93., 95., 97., 99., 65., 67.,\n",
            "        69., 71., 73., 75., 77., 79., 81., 83., 85., 87., 89., 91., 93., 95.,\n",
            "        97., 99., 65., 67., 69., 71., 73., 75., 77., 79., 81., 83., 85., 87.,\n",
            "        89., 91., 93., 95., 97., 99., 65., 67., 69., 71., 73., 75., 77., 79.,\n",
            "        81., 83., 85., 87., 89., 91., 93., 95., 97., 99., 65., 67., 69., 71.,\n",
            "        73., 75., 77., 79., 81., 83., 85., 87., 89., 91., 93., 95., 97., 99.,\n",
            "        65., 67., 69., 71., 73., 75., 77., 79., 81., 83., 85., 87., 89., 91.,\n",
            "        93., 95., 97., 99.])\n"
          ]
        }
      ]
    },
    {
      "cell_type": "code",
      "source": [
        "# Calculate the split index\n",
        "split_idx = int(0.75 * len(features))\n",
        "\n",
        "# Split features and target into training and test sets\n",
        "train_features, test_features = features[:split_idx], features[split_idx:]\n",
        "train_target, test_target = target[:split_idx], target[split_idx:]\n",
        "\n",
        "print(\"Training features size:\", train_features.size())\n",
        "print(\"Test features size:\", test_features.size())"
      ],
      "metadata": {
        "colab": {
          "base_uri": "https://localhost:8080/"
        },
        "id": "FNvn0SJxajSV",
        "outputId": "b7c4bdec-60e2-4c88-e13a-6b40df2e060b"
      },
      "execution_count": 9,
      "outputs": [
        {
          "output_type": "stream",
          "name": "stdout",
          "text": [
            "Training features size: torch.Size([150])\n",
            "Test features size: torch.Size([50])\n"
          ]
        }
      ]
    },
    {
      "cell_type": "code",
      "source": [
        "import torch\n",
        "import torch.nn as nn\n",
        "import torch.optim as optim\n",
        "import matplotlib.pyplot as plt\n",
        "\n",
        "# Define a simple linear model\n",
        "class LinearModel(nn.Module):\n",
        "    def __init__(self, input_dim, output_dim):\n",
        "        super(LinearModel, self).__init__()\n",
        "        self.linear = nn.Linear(input_dim, output_dim)\n",
        "\n",
        "    def forward(self, x):\n",
        "        return self.linear(x)\n",
        "\n",
        "# Initialize the model\n",
        "input_dim = 1  # Assuming 1 feature (e.g., 'diff')\n",
        "output_dim = 1  # Assuming 1 target (e.g., 'If')\n",
        "model = LinearModel(input_dim, output_dim)\n",
        "\n",
        "# Move model to GPU if available\n",
        "device = torch.device(\"cuda\" if torch.cuda.is_available() else \"cpu\")\n",
        "model.to(device)\n",
        "\n",
        "# Define loss function and optimizer\n",
        "criterion = nn.MSELoss()  # Mean Squared Error Loss\n",
        "optimizer = optim.SGD(model.parameters(), lr=0.01)  # Stochastic Gradient Descent"
      ],
      "metadata": {
        "id": "Vmj1lDtzajh8"
      },
      "execution_count": 10,
      "outputs": []
    },
    {
      "cell_type": "code",
      "source": [
        "# Prepare data (assuming features and target are already defined)\n",
        "# Reshape features and target to match model input/output dimensions\n",
        "train_features = train_features.unsqueeze(1).to(device)\n",
        "train_target = train_target.unsqueeze(1).to(device)\n",
        "test_features = test_features.unsqueeze(1).to(device)\n",
        "test_target = test_target.unsqueeze(1).to(device)\n",
        "\n",
        "# Training loop\n",
        "num_epochs = 100\n",
        "train_losses = []\n",
        "test_losses = []\n",
        "\n",
        "for epoch in range(num_epochs):\n",
        "    # Training phase\n",
        "    model.train()\n",
        "    optimizer.zero_grad()\n",
        "    outputs = model(train_features)\n",
        "    loss = criterion(outputs, train_target)\n",
        "    loss.backward()\n",
        "    optimizer.step()\n",
        "    train_losses.append(loss.item())\n",
        "\n",
        "    # Testing phase\n",
        "    model.eval()\n",
        "    with torch.no_grad():\n",
        "        test_outputs = model(test_features)\n",
        "        test_loss = criterion(test_outputs, test_target)\n",
        "        test_losses.append(test_loss.item())\n",
        "\n",
        "    if (epoch + 1) % 10 == 0:\n",
        "        print(f\"Epoch [{epoch+1}/{num_epochs}], Train Loss: {loss.item():.4f}, Test Loss: {test_loss.item():.4f}\")\n",
        "\n",
        "# Plot Loss vs Epoch\n",
        "plt.figure(figsize=(10, 6))\n",
        "plt.plot(range(num_epochs), train_losses, label=\"Train Loss\")\n",
        "plt.plot(range(num_epochs), test_losses, label=\"Test Loss\")\n",
        "plt.xlabel(\"Epoch\")\n",
        "plt.ylabel(\"Loss\")\n",
        "plt.title(\"Loss vs Epoch\")\n",
        "plt.legend()\n",
        "plt.grid()\n",
        "plt.show()"
      ],
      "metadata": {
        "colab": {
          "base_uri": "https://localhost:8080/",
          "height": 738
        },
        "id": "xgMpgLm-ajkN",
        "outputId": "e47ce435-06dd-451e-bb2e-ab550ea47166"
      },
      "execution_count": 11,
      "outputs": [
        {
          "output_type": "stream",
          "name": "stdout",
          "text": [
            "Epoch [10/100], Train Loss: 1014108859383142475574420701184.0000, Test Loss: 1388961760665475688172771071754240.0000\n",
            "Epoch [20/100], Train Loss: inf, Test Loss: inf\n",
            "Epoch [30/100], Train Loss: nan, Test Loss: nan\n",
            "Epoch [40/100], Train Loss: nan, Test Loss: nan\n",
            "Epoch [50/100], Train Loss: nan, Test Loss: nan\n",
            "Epoch [60/100], Train Loss: nan, Test Loss: nan\n",
            "Epoch [70/100], Train Loss: nan, Test Loss: nan\n",
            "Epoch [80/100], Train Loss: nan, Test Loss: nan\n",
            "Epoch [90/100], Train Loss: nan, Test Loss: nan\n",
            "Epoch [100/100], Train Loss: nan, Test Loss: nan\n"
          ]
        },
        {
          "output_type": "display_data",
          "data": {
            "text/plain": [
              "<Figure size 1000x600 with 1 Axes>"
            ],
            "image/png": "[encoded data removed]"
          },
          "metadata": {}
        }
      ]
    },
    {
      "cell_type": "markdown",
      "source": [
        "### **The model is experiencing an exploding gradient problem, leading to inf and nan losses. This is likely due to a too-high learning rate, poor weight initialization, or lack of gradient clipping. To improve the model we can:**\n",
        "\n",
        "## **Reduce the learning rate.**\n",
        "## **Apply gradient clipping.**\n",
        "## **Normalize input data.**\n",
        "## **Use a more stable loss function or optimizer.**"
      ],
      "metadata": {
        "id": "o3yTXG6hgihZ"
      }
    },
    {
      "cell_type": "code",
      "source": [],
      "metadata": {
        "id": "saAg6AkIgt0S"
      },
      "execution_count": null,
      "outputs": []
    }
  ]
}